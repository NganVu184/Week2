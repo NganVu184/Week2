{
 "cells": [
  {
   "cell_type": "markdown",
   "metadata": {},
   "source": [
    "# Exercise 1.\n",
    "* Write a function that determines if a year (given as parameter) is a leap year or not. \n",
    "    * The function should return a Boolean value. \n",
    "    * A year is a leap year if it is divisible by 4, unless it is also divisible by 100, with the exception that a year divisible by 400 is a leap year."
   ]
  },
  {
   "cell_type": "code",
   "execution_count": 1,
   "metadata": {},
   "outputs": [],
   "source": [
    "def leap_year(year):\n",
    "    if (year%4==0 and year%100!=0) or (year%400==0):\n",
    "        return True\n",
    "    else:\n",
    "        return False"
   ]
  },
  {
   "cell_type": "code",
   "execution_count": 5,
   "metadata": {},
   "outputs": [
    {
     "data": {
      "text/plain": [
       "True"
      ]
     },
     "execution_count": 5,
     "metadata": {},
     "output_type": "execute_result"
    }
   ],
   "source": [
    "leap_year(2024)"
   ]
  },
  {
   "cell_type": "markdown",
   "metadata": {},
   "source": [
    "# Exercise 2.\n",
    "* Write a function that takes two lists of integers as parameters, representing intervals. \n",
    "    * The function must check that each list contains exactly 2 elements, and computes the union and the intersection of the two intervals.\n"
   ]
  },
  {
   "cell_type": "code",
   "execution_count": 18,
   "metadata": {},
   "outputs": [],
   "source": [
    "def compute_intervals(interval1, interval2):\n",
    "    \n",
    "    # Check that each list contains exactly 2 elements\n",
    "    if len(interval1) != 2 or len(interval2) != 2:\n",
    "        raise ValueError(\"Each interval must contain exactly 2 elements.\")\n",
    "    \n",
    "    # Extract start and end points\n",
    "    start1, end1 = interval1\n",
    "    start2, end2 = interval2\n",
    "\n",
    "    # Ensure intervals are valid (start <= end)\n",
    "    if start1 > end1 or start2 > end2:\n",
    "        raise ValueError(\"Interval start must be less than or equal to end.\")\n",
    "\n",
    "    # Compute the union of the two intervals\n",
    "    union_start = min(start1, start2)\n",
    "    union_end = max(end1, end2)\n",
    "    union = [union_start, union_end]\n",
    "\n",
    "    # Compute the intersection of the two intervals\n",
    "    intersection_start = max(start1, start2)\n",
    "    intersection_end = min(end1, end2)\n",
    "    \n",
    "    if intersection_start <= intersection_end:\n",
    "        intersection = [intersection_start, intersection_end]\n",
    "    else:\n",
    "        intersection = []\n",
    "\n",
    "    return union, intersection\n"
   ]
  },
  {
   "cell_type": "code",
   "execution_count": 19,
   "metadata": {},
   "outputs": [
    {
     "name": "stdout",
     "output_type": "stream",
     "text": [
      "Union: [2, 8]\n",
      "Intersection: [4, 5]\n"
     ]
    }
   ],
   "source": [
    "interval1 = [2, 5]\n",
    "interval2 = [4, 8]\n",
    "\n",
    "union, intersection = compute_intervals(interval1, interval2)\n",
    "print(\"Union:\", union)    \n",
    "print(\"Intersection:\", intersection)  \n"
   ]
  },
  {
   "cell_type": "markdown",
   "metadata": {},
   "source": [
    "# Exercise 3.\n",
    "* Write a function that determines if a number given as parameter is a perfect number. \n",
    "    * A perfect number is a positive integer equal to the sum of its positive proper divisors (divisors excluding the number itself)."
   ]
  },
  {
   "cell_type": "code",
   "execution_count": 25,
   "metadata": {},
   "outputs": [],
   "source": [
    "def is_perfect_number(n):\n",
    "    if n <= 0:\n",
    "        return False  # Perfect numbers must be positive integers\n",
    "\n",
    "    # Initialize sum of proper divisors\n",
    "    sum_of_divisors = 0\n",
    "\n",
    "    # Find divisors from 1 to sqrt(n)\n",
    "    for i in range(1, int(n**0.5) + 1): # n**0.5 nghĩa là căn bậc hai của n. ** nghĩa là mũ, a**b là a mũ b\n",
    "        if n % i == 0:\n",
    "            # i is a divisor\n",
    "            if i != n:\n",
    "                sum_of_divisors = i + sum_of_divisors\n",
    "            # Check the complement divisor : các ước số lớn hơn căn bậc hai của n\n",
    "            if i != 1 and i != n // i:\n",
    "                # i != 1 vì không cộng với chính nó nên phải khác 1\n",
    "                # i != n // i vì sẽ bị cộng trùng, ví dụ 16/4 = 4\n",
    "                sum_of_divisors = n//i + sum_of_divisors\n",
    "\n",
    "    # Check if the sum of proper divisors equals the number\n",
    "    return sum_of_divisors == n\n"
   ]
  },
  {
   "cell_type": "code",
   "execution_count": 29,
   "metadata": {},
   "outputs": [
    {
     "name": "stdout",
     "output_type": "stream",
     "text": [
      "True\n",
      "True\n",
      "False\n"
     ]
    }
   ],
   "source": [
    "print(is_perfect_number(8128)) \n",
    "print(is_perfect_number(28)) \n",
    "print(is_perfect_number(12))"
   ]
  },
  {
   "cell_type": "markdown",
   "metadata": {},
   "source": [
    "# Exercise 4.\n",
    "* Write a function that returns the min and max values of a list given as parameter."
   ]
  },
  {
   "cell_type": "code",
   "execution_count": 31,
   "metadata": {},
   "outputs": [],
   "source": [
    "def min_max(l):\n",
    "  min = l[0]\n",
    "  max = l[0]\n",
    "  for v in l:\n",
    "    if v < min:\n",
    "      min = v\n",
    "    elif v > max:\n",
    "      max = v\n",
    "  return min,max\n"
   ]
  },
  {
   "cell_type": "code",
   "execution_count": 32,
   "metadata": {},
   "outputs": [
    {
     "name": "stdout",
     "output_type": "stream",
     "text": [
      "5 16\n"
     ]
    }
   ],
   "source": [
    "l = [14,5,16,7,8]\n",
    "min,max = min_max(l)\n",
    "print(min,max)"
   ]
  },
  {
   "cell_type": "markdown",
   "metadata": {},
   "source": [
    "# Exercise 5.\n",
    "* Write a function that checks if a list given as parameter is a Fibonacci sequence. (F(n)=F(n−1)+F(n−2))"
   ]
  },
  {
   "cell_type": "code",
   "execution_count": 35,
   "metadata": {},
   "outputs": [],
   "source": [
    "def is_fibonacci_sequence(n):\n",
    "    # A Fibonacci sequence must have at least 3 numbers\n",
    "    if len(n) < 3:\n",
    "        return False\n",
    "    else:\n",
    "    # Check the Fibonacci property for each number in the list\n",
    "      for i in range(2, len(n)):\n",
    "        if n[i] != n[i - 1] + n[i - 2]:\n",
    "            return False\n",
    "    return True"
   ]
  },
  {
   "cell_type": "code",
   "execution_count": 36,
   "metadata": {},
   "outputs": [
    {
     "name": "stdout",
     "output_type": "stream",
     "text": [
      "True\n"
     ]
    }
   ],
   "source": [
    "test_list = [0, 1, 1, 2, 3, 5, 8]\n",
    "print(is_fibonacci_sequence(test_list))"
   ]
  },
  {
   "cell_type": "markdown",
   "metadata": {},
   "source": [
    "# Exercise 6.\n",
    "* Write a function that takes as input a two-dimensional list and computes the average for each row in the list. \n",
    "    * The function should return a list containing the average value of each row."
   ]
  },
  {
   "cell_type": "code",
   "execution_count": 39,
   "metadata": {},
   "outputs": [],
   "source": [
    "def row_averages(matrix):\n",
    "    averages = [] #create a blanc matrix named averages\n",
    "    # Iterate through each row in the initial matrix\n",
    "    for row in matrix:\n",
    "        # Calculate the average of the row and append it to the averages list\n",
    "        avg = sum(row) / len(row)\n",
    "        averages.append(avg)\n",
    "    return averages"
   ]
  },
  {
   "cell_type": "code",
   "execution_count": 40,
   "metadata": {},
   "outputs": [
    {
     "name": "stdout",
     "output_type": "stream",
     "text": [
      "[2.0, 5.0, 8.0]\n"
     ]
    }
   ],
   "source": [
    "#two-dimensional list\n",
    "a=[[1,2,3],[4,5,6],[7,8,9]]\n",
    "print(row_averages(a))"
   ]
  }
 ],
 "metadata": {
  "kernelspec": {
   "display_name": "Python 3",
   "language": "python",
   "name": "python3"
  },
  "language_info": {
   "codemirror_mode": {
    "name": "ipython",
    "version": 3
   },
   "file_extension": ".py",
   "mimetype": "text/x-python",
   "name": "python",
   "nbconvert_exporter": "python",
   "pygments_lexer": "ipython3",
   "version": "3.12.6"
  }
 },
 "nbformat": 4,
 "nbformat_minor": 2
}
